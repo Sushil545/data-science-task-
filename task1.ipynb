{
  "nbformat": 4,
  "nbformat_minor": 0,
  "metadata": {
    "colab": {
      "provenance": [],
      "include_colab_link": true
    },
    "kernelspec": {
      "name": "python3",
      "display_name": "Python 3"
    },
    "language_info": {
      "name": "python"
    }
  },
  "cells": [
    {
      "cell_type": "markdown",
      "metadata": {
        "id": "view-in-github",
        "colab_type": "text"
      },
      "source": [
        "<a href=\"https://colab.research.google.com/github/Sushil545/data-science-task-/blob/main/task1.ipynb\" target=\"_parent\"><img src=\"https://colab.research.google.com/assets/colab-badge.svg\" alt=\"Open In Colab\"/></a>"
      ]
    },
    {
      "cell_type": "code",
      "source": [
        "import pandas as pd\n",
        "import numpy as np\n",
        "import matplotlib.pyplot as plt"
      ],
      "metadata": {
        "id": "aCMr9bf0_QRY"
      },
      "execution_count": null,
      "outputs": []
    },
    {
      "cell_type": "code",
      "source": [
        "np.random.seed(42)\n",
        "probabilities = [0.0361] * 21 + [0.057] * 44 + [0.0069] * 36\n",
        "probabilities[-1] += 1 - sum(probabilities)  # Adjust the last probability to sum to 1"
      ],
      "metadata": {
        "id": "2hyEbNX9_Wsy"
      },
      "execution_count": null,
      "outputs": []
    },
    {
      "cell_type": "code",
      "source": [
        "import numpy as np\n",
        "\n",
        "np.random.seed(42)\n",
        "probabilities = [0.0361] * 21 + [0.057] * 44 + [0.0069] * 36\n",
        "probabilities[-1] += 1 - sum(probabilities)  # Adjust the last probability to sum to 1\n",
        "\n",
        "# Ensure all probabilities are non-negative and sum to 1\n",
        "probabilities = np.clip(probabilities, 0, 1)\n",
        "probabilities /= np.sum(probabilities)\n",
        "\n",
        "ages = np.random.choice(\n",
        "    range(0, 101),\n",
        "    size=100000,\n",
        "    p=probabilities\n",
        ")"
      ],
      "metadata": {
        "id": "v6pgFFI7ACEH"
      },
      "execution_count": null,
      "outputs": []
    },
    {
      "cell_type": "code",
      "source": [
        "data = pd.DataFrame({'Age': ages})"
      ],
      "metadata": {
        "id": "h7heXKfsAHZa"
      },
      "execution_count": null,
      "outputs": []
    },
    {
      "cell_type": "code",
      "source": [
        "age_groups = [(0, 20, 'yellow', '0 to 20 Years\\n512 Mn\\n36.1%'),\n",
        "              (21, 64, 'blue', '21 to 64 Years\\n807 Mn\\n57.0%'),\n",
        "              (65, 100, 'magenta', '65+ Years\\n98 Mn\\n6.9%')]"
      ],
      "metadata": {
        "id": "yWFczWD3APjf"
      },
      "execution_count": null,
      "outputs": []
    },
    {
      "cell_type": "code",
      "source": [
        "plt.figure(figsize=(10, 8))"
      ],
      "metadata": {
        "colab": {
          "base_uri": "https://localhost:8080/",
          "height": 86
        },
        "id": "ZDCORkpDAW8j",
        "outputId": "9bfd23f7-54c5-44ed-ab0f-74a256007b56"
      },
      "execution_count": null,
      "outputs": [
        {
          "output_type": "execute_result",
          "data": {
            "text/plain": [
              "<Figure size 1000x800 with 0 Axes>"
            ]
          },
          "metadata": {},
          "execution_count": 6
        },
        {
          "output_type": "display_data",
          "data": {
            "text/plain": [
              "<Figure size 1000x800 with 0 Axes>"
            ]
          },
          "metadata": {}
        }
      ]
    },
    {
      "cell_type": "code",
      "source": [
        "for start, end, color, label in age_groups:\n",
        "    age_group_data = data[(data['Age'] >= start) & (data['Age'] <= end)]\n",
        "    plt.hist(age_group_data['Age'], bins=end-start, color=color, edgecolor='black', label=label)"
      ],
      "metadata": {
        "colab": {
          "base_uri": "https://localhost:8080/",
          "height": 217
        },
        "id": "O8mQhegoAc-R",
        "outputId": "878b6cc5-882f-4911-b2e2-bc4b21d60b0a"
      },
      "execution_count": null,
      "outputs": [
        {
          "output_type": "display_data",
          "data": {
            "text/plain": [
              "<Figure size 640x480 with 1 Axes>"
            ],
            "image/png": "[encoded data removed]"
          },
          "metadata": {}
        }
      ]
    }
  ]
}